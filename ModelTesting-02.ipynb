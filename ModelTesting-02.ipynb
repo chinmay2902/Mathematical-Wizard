{
 "cells": [
  {
   "cell_type": "code",
   "execution_count": 1,
   "id": "4aa07da3",
   "metadata": {},
   "outputs": [],
   "source": [
    "import tensorflow as tf\n",
    "from tensorflow import keras\n",
    "import PIL\n",
    "import cv2\n",
    "import numpy as np"
   ]
  },
  {
   "cell_type": "code",
   "execution_count": 9,
   "id": "a17bd3ab",
   "metadata": {},
   "outputs": [],
   "source": [
    "model=keras.models.load_model(\"trainDataModel.h5\",compile=False)"
   ]
  },
  {
   "cell_type": "code",
   "execution_count": 10,
   "id": "d9832c9e",
   "metadata": {},
   "outputs": [],
   "source": [
    "model.compile(optimizer=\"adam\",loss=\"sparse_categorical_crossentropy\",metrics=[\"accuracy\"])"
   ]
  },
  {
   "cell_type": "code",
   "execution_count": 11,
   "id": "47077237",
   "metadata": {
    "scrolled": true
   },
   "outputs": [
    {
     "name": "stdout",
     "output_type": "stream",
     "text": [
      "1/1 [==============================] - 4s 4s/step\n",
      "Predicted:9 ActualIndex:9\n"
     ]
    }
   ],
   "source": [
    "path=\"E:/tfGPU/Mathematical Exp/data_output/test/5/5_39045.jpg\"\n",
    "testImg=keras.utils.load_img(path,target_size=(28,28),color_mode=\"grayscale\")\n",
    "testImg=keras.utils.img_to_array(testImg)\n",
    "testImg=np.expand_dims(testImg,axis=0)\n",
    "print(f\"Predicted:{np.argmax(model.predict(testImg))} ActualIndex:9\")"
   ]
  },
  {
   "cell_type": "code",
   "execution_count": 12,
   "id": "e06ce701",
   "metadata": {},
   "outputs": [
    {
     "name": "stdout",
     "output_type": "stream",
     "text": [
      "1/1 [==============================] - 0s 73ms/step\n",
      "Predicted:3 ActualIndex:3\n"
     ]
    }
   ],
   "source": [
    "path=\"E:/tfGPU/Mathematical Exp/data_output/test/-/-_5567.jpg\"\n",
    "testImg=keras.utils.load_img(path,target_size=(28,28),color_mode=\"grayscale\")\n",
    "testImg=keras.utils.img_to_array(testImg)\n",
    "testImg=np.expand_dims(testImg,axis=0)\n",
    "print(f\"Predicted:{np.argmax(model.predict(testImg))} ActualIndex:3\")"
   ]
  },
  {
   "cell_type": "code",
   "execution_count": 13,
   "id": "c703690f",
   "metadata": {},
   "outputs": [],
   "source": [
    "import matplotlib.pyplot as plt\n",
    "img=cv2.imread(\"E:/tfGPU/Mathematical Exp/test2.png\",cv2.IMREAD_GRAYSCALE)\n",
    "\n",
    "if img is not None:\n",
    "#     images.append(img)\n",
    "    img=~img\n",
    "    ret,thresh=cv2.threshold(img,125,255,cv2.THRESH_BINARY)\n",
    "    ctrs=cv2.findContours(thresh,cv2.RETR_TREE,cv2.CHAIN_APPROX_SIMPLE)[0]\n",
    "    cnt=sorted(ctrs, key=lambda ctr: cv2.boundingRect(ctr)[0])\n",
    "    w=int(28)\n",
    "    h=int(28)\n",
    "    train_data=[]\n",
    "#     print(len(cnt))\n",
    "    rects=[]\n",
    "    for c in cnt :\n",
    "        x,y,w,h= cv2.boundingRect(c)\n",
    "        rect=[x,y,w,h]\n",
    "        rects.append(rect)\n",
    "    #print(rects)\n",
    "    bool_rect=[]\n",
    "    for r in rects:\n",
    "        l=[]\n",
    "        for rec in rects:\n",
    "            flag=0\n",
    "            if rec!=r:\n",
    "                if r[0]<(rec[0]+rec[2]+10) and rec[0]<(r[0]+r[2]+10) and r[1]<(rec[1]+rec[3]+10) and rec[1]<(r[1]+r[3]+10):\n",
    "                    flag=1\n",
    "                l.append(flag)\n",
    "            if rec==r:\n",
    "                l.append(0)\n",
    "        bool_rect.append(l)\n",
    "    #print(bool_rect)\n",
    "    dump_rect=[]\n",
    "    for i in range(0,len(cnt)):\n",
    "        for j in range(0,len(cnt)):\n",
    "            if bool_rect[i][j]==1:\n",
    "                area1=rects[i][2]*rects[i][3]\n",
    "                area2=rects[j][2]*rects[j][3]\n",
    "                if(area1==min(area1,area2)):\n",
    "                    dump_rect.append(rects[i])\n",
    "    #print(len(dump_rect)) \n",
    "    final_rect=[i for i in rects if i not in dump_rect]\n",
    "    #print(final_rect)\n",
    "    for r in final_rect:\n",
    "        x=r[0]\n",
    "        y=r[1]\n",
    "        w=r[2]\n",
    "        h=r[3]\n",
    "        im_crop =thresh[y:y+h,x:x+w]\n",
    "        \n",
    "\n",
    "        im_resize = cv2.resize(im_crop,(28,28))\n",
    "        cv2.imshow(\"work\",im_resize)\n",
    "        cv2.waitKey(0)\n",
    "        cv2.destroyAllWindows()\n",
    "\n",
    "        im_resize=np.reshape(im_resize,(1,28,28))\n",
    "        train_data.append(im_resize)"
   ]
  },
  {
   "cell_type": "code",
   "execution_count": 14,
   "id": "d4432347",
   "metadata": {
    "scrolled": true
   },
   "outputs": [
    {
     "ename": "NameError",
     "evalue": "name 'train_data' is not defined",
     "output_type": "error",
     "traceback": [
      "\u001b[1;31m---------------------------------------------------------------------------\u001b[0m",
      "\u001b[1;31mNameError\u001b[0m                                 Traceback (most recent call last)",
      "Cell \u001b[1;32mIn[14], line 15\u001b[0m\n\u001b[0;32m     12\u001b[0m     \u001b[38;5;28mprint\u001b[39m(\u001b[38;5;124m\"\u001b[39m\u001b[38;5;124mEqu is:\u001b[39m\u001b[38;5;124m\"\u001b[39m,equ)\n\u001b[0;32m     13\u001b[0m     \u001b[38;5;28mprint\u001b[39m(\u001b[38;5;124m\"\u001b[39m\u001b[38;5;124mIndex are:\u001b[39m\u001b[38;5;124m\"\u001b[39m,ind)\n\u001b[1;32m---> 15\u001b[0m solveEqu(\u001b[43mtrain_data\u001b[49m)\n",
      "\u001b[1;31mNameError\u001b[0m: name 'train_data' is not defined"
     ]
    }
   ],
   "source": [
    "labels={0:'(',1:')',2:'+',3:'-',4:'0',5:'1',6:'2',7:'3',8:'4',9:'5',10:'6',11:'7',12:'8',13:'9',14:'=',15:'[',16:']',\n",
    "        17:'div',18:'i',19:'pi',20:'{',21:'}'}\n",
    "\n",
    "def solveEqu(data):\n",
    "    equ=\"\"\n",
    "    ind=\"\"\n",
    "    for i in data:\n",
    "        img=np.array(i)\n",
    "        index=np.argmax(model.predict(img))\n",
    "        ind+=\" \"+str(index)\n",
    "        equ+=labels[index]\n",
    "    print(\"Equ is:\",equ)\n",
    "    print(\"Index are:\",ind)\n",
    "        \n",
    "solveEqu(train_data)"
   ]
  },
  {
   "cell_type": "code",
   "execution_count": null,
   "id": "915b2c48",
   "metadata": {
    "scrolled": true
   },
   "outputs": [],
   "source": [
    "plt.imshow(img)"
   ]
  },
  {
   "cell_type": "code",
   "execution_count": null,
   "id": "aa04158e",
   "metadata": {},
   "outputs": [],
   "source": []
  },
  {
   "cell_type": "code",
   "execution_count": null,
   "id": "be18e7b0",
   "metadata": {},
   "outputs": [],
   "source": []
  },
  {
   "cell_type": "code",
   "execution_count": null,
   "id": "d75249c5",
   "metadata": {},
   "outputs": [],
   "source": []
  }
 ],
 "metadata": {
  "kernelspec": {
   "display_name": "Python (tfGPU)",
   "language": "python",
   "name": "tfgpu"
  },
  "language_info": {
   "codemirror_mode": {
    "name": "ipython",
    "version": 3
   },
   "file_extension": ".py",
   "mimetype": "text/x-python",
   "name": "python",
   "nbconvert_exporter": "python",
   "pygments_lexer": "ipython3",
   "version": "3.9.16"
  }
 },
 "nbformat": 4,
 "nbformat_minor": 5
}
