{
  "cells": [
    {
      "cell_type": "code",
      "execution_count": 1,
      "id": "ee7079a7",
      "metadata": {
        "id": "ee7079a7"
      },
      "outputs": [],
      "source": [
        "import cv2 as cv\n",
        "import PIL\n",
        "import tensorflow as tf\n",
        "from tensorflow import keras\n",
        "from keras.preprocessing.image import ImageDataGenerator\n",
        "from sklearn.metrics import classification_report,confusion_matrix\n",
        "import numpy as np\n",
        "import matplotlib.pyplot as plt"
      ]
    },
    {
      "cell_type": "code",
      "source": [
        "from google.colab import drive\n",
        "drive.mount('/content/drive')\n"
      ],
      "metadata": {
        "id": "Q8xllWcUFNjr",
        "colab": {
          "base_uri": "https://localhost:8080/"
        },
        "outputId": "afff451a-f8a4-4e8f-b30f-ab99fb492f00"
      },
      "id": "Q8xllWcUFNjr",
      "execution_count": 2,
      "outputs": [
        {
          "output_type": "stream",
          "name": "stdout",
          "text": [
            "Mounted at /content/drive\n"
          ]
        }
      ]
    },
    {
      "cell_type": "code",
      "source": [
        "import zipfile\n",
        "import os\n",
        "zip_ref = zipfile.ZipFile('/content/drive/MyDrive/data_output.zip', 'r') #Opens the zip file in read mode\n",
        "zip_ref.extractall('/tmp') #Extracts the files into the /tmp folder\n",
        "zip_ref.close()"
      ],
      "metadata": {
        "id": "cgd7uye1Majt"
      },
      "id": "cgd7uye1Majt",
      "execution_count": 3,
      "outputs": []
    },
    {
      "cell_type": "code",
      "execution_count": 4,
      "id": "db7a15ea",
      "metadata": {
        "colab": {
          "base_uri": "https://localhost:8080/"
        },
        "id": "db7a15ea",
        "outputId": "1fe0d49e-6086-43c7-8fec-1e4b65f1287d"
      },
      "outputs": [
        {
          "output_type": "execute_result",
          "data": {
            "text/plain": [
              "15"
            ]
          },
          "metadata": {},
          "execution_count": 4
        }
      ],
      "source": [
        "import pathlib\n",
        "path=\"/tmp/data_output/train/\"\n",
        "len(list(pathlib.Path(path).glob(\"*/\")))"
      ]
    },
    {
      "cell_type": "code",
      "execution_count": 5,
      "id": "58ae7982",
      "metadata": {
        "id": "58ae7982",
        "outputId": "92d36069-d7b4-49aa-98cf-2f7ec76f4ff7",
        "colab": {
          "base_uri": "https://localhost:8080/",
          "height": 36
        }
      },
      "outputs": [
        {
          "output_type": "execute_result",
          "data": {
            "text/plain": [
              "'/tmp/data_output/train/7'"
            ],
            "application/vnd.google.colaboratory.intrinsic+json": {
              "type": "string"
            }
          },
          "metadata": {},
          "execution_count": 5
        }
      ],
      "source": [
        "str(list(pathlib.Path(path).glob(\"*/\"))[-1])"
      ]
    },
    {
      "cell_type": "code",
      "execution_count": 6,
      "id": "4b60e5cc",
      "metadata": {
        "id": "4b60e5cc",
        "outputId": "448cdb5e-86f6-4d4e-e95f-4a85b23fc987",
        "colab": {
          "base_uri": "https://localhost:8080/"
        }
      },
      "outputs": [
        {
          "output_type": "execute_result",
          "data": {
            "text/plain": [
              "['(', '4', '0', '6', ')', '9', '2', '3', '+', '8', 'times', '-', '5', '1', '7']"
            ]
          },
          "metadata": {},
          "execution_count": 6
        }
      ],
      "source": [
        "ctg=[str(i).split(\"/\")[-1] for i in list(pathlib.Path(\"/tmp/data_output/train/\").glob(\"*/\"))]\n",
        "ctg"
      ]
    },
    {
      "cell_type": "code",
      "execution_count": 7,
      "id": "bb49ad60",
      "metadata": {
        "id": "bb49ad60",
        "outputId": "b64ed848-1ccf-4e2d-d1ce-31fd15b30b93",
        "colab": {
          "base_uri": "https://localhost:8080/"
        }
      },
      "outputs": [
        {
          "output_type": "stream",
          "name": "stdout",
          "text": [
            "(:10005\n",
            "4:5177\n",
            "0:4839\n",
            "6:2182\n",
            "):10048\n",
            "9:2615\n",
            "2:18298\n",
            "3:7636\n",
            "+:17578\n",
            "8:2147\n",
            "times:2925\n",
            "-:23797\n",
            "5:2481\n",
            "1:18564\n",
            "7:2036\n"
          ]
        }
      ],
      "source": [
        "labelsDir={}\n",
        "for i in ctg:\n",
        "    print(f\"{i}:{len(list(pathlib.Path('/tmp/data_output/train/'+i).glob('*')))}\")"
      ]
    },
    {
      "cell_type": "markdown",
      "id": "1b91780b",
      "metadata": {
        "id": "1b91780b"
      },
      "source": [
        "# Split in Train and Test"
      ]
    },
    {
      "cell_type": "code",
      "execution_count": 8,
      "id": "fc11b528",
      "metadata": {
        "id": "fc11b528"
      },
      "outputs": [],
      "source": [
        "# import splitfolders"
      ]
    },
    {
      "cell_type": "code",
      "execution_count": 9,
      "id": "b8b556dd",
      "metadata": {
        "id": "b8b556dd"
      },
      "outputs": [],
      "source": [
        "# splitfolders.ratio(\"data/\",output=\"data_output/\",seed=42,ratio=(0.7,0.2,0.1),group_prefix=None)"
      ]
    },
    {
      "cell_type": "markdown",
      "id": "641193f2",
      "metadata": {
        "id": "641193f2"
      },
      "source": [
        "# Img Augmentation and Loading"
      ]
    },
    {
      "cell_type": "code",
      "execution_count": 9,
      "id": "21e9a04c",
      "metadata": {
        "id": "21e9a04c"
      },
      "outputs": [],
      "source": []
    },
    {
      "cell_type": "code",
      "execution_count": 9,
      "id": "112a2057",
      "metadata": {
        "id": "112a2057"
      },
      "outputs": [],
      "source": []
    },
    {
      "cell_type": "code",
      "execution_count": 9,
      "id": "bf14cd4f",
      "metadata": {
        "id": "bf14cd4f"
      },
      "outputs": [],
      "source": []
    },
    {
      "cell_type": "code",
      "execution_count": 10,
      "id": "7b63e426",
      "metadata": {
        "id": "7b63e426",
        "outputId": "ee6c3e5f-835b-4b9b-c97d-8778d097b19f",
        "colab": {
          "base_uri": "https://localhost:8080/"
        }
      },
      "outputs": [
        {
          "output_type": "stream",
          "name": "stdout",
          "text": [
            "Found 130328 images belonging to 15 classes.\n"
          ]
        }
      ],
      "source": [
        "train_datagram=ImageDataGenerator(rescale=1./255,\n",
        "                                 rotation_range=20,\n",
        "                                 shear_range=0.2,\n",
        "                                 zoom_range=0.2,\n",
        "                                 horizontal_flip=False)\n",
        "x_train=train_datagram.flow_from_directory(\"/tmp/data_output/train\",\n",
        "                                          target_size=(28,28),\n",
        "                                          batch_size=32,\n",
        "                                           color_mode=\"grayscale\",\n",
        "                                          class_mode=\"sparse\")\n"
      ]
    },
    {
      "cell_type": "code",
      "execution_count": 11,
      "id": "950cd9e8",
      "metadata": {
        "id": "950cd9e8"
      },
      "outputs": [],
      "source": [
        "# y_train=x_train.classes\n",
        "# y_train"
      ]
    },
    {
      "cell_type": "code",
      "execution_count": 12,
      "id": "49107ca6",
      "metadata": {
        "id": "49107ca6",
        "outputId": "d1f6586d-6c7d-490b-899e-ccea143fd439",
        "colab": {
          "base_uri": "https://localhost:8080/"
        }
      },
      "outputs": [
        {
          "output_type": "stream",
          "name": "stdout",
          "text": [
            "Found 36397 images belonging to 14 classes.\n"
          ]
        }
      ],
      "source": [
        "val_datagram=ImageDataGenerator(rescale=1./255,\n",
        "                                 horizontal_flip=False)\n",
        "x_val=val_datagram.flow_from_directory(\"/tmp/data_output/val\",\n",
        "                                          target_size=(28,28),\n",
        "                                          batch_size=32,\n",
        "                                           color_mode=\"grayscale\",\n",
        "                                          class_mode=\"sparse\")\n",
        "# y_val=x_val.classes"
      ]
    },
    {
      "cell_type": "code",
      "execution_count": 12,
      "id": "70d70722",
      "metadata": {
        "id": "70d70722"
      },
      "outputs": [],
      "source": []
    },
    {
      "cell_type": "markdown",
      "id": "845d54a0",
      "metadata": {
        "id": "845d54a0"
      },
      "source": [
        "# Model"
      ]
    },
    {
      "cell_type": "code",
      "execution_count": 14,
      "id": "811d1920",
      "metadata": {
        "id": "811d1920",
        "outputId": "5c76b9cd-bbde-4734-d81b-71dc569c4f08",
        "colab": {
          "base_uri": "https://localhost:8080/"
        }
      },
      "outputs": [
        {
          "output_type": "stream",
          "name": "stdout",
          "text": [
            "Model: \"sequential\"\n",
            "_________________________________________________________________\n",
            " Layer (type)                Output Shape              Param #   \n",
            "=================================================================\n",
            " conv2d (Conv2D)             (None, 28, 28, 256)       2560      \n",
            "                                                                 \n",
            " max_pooling2d (MaxPooling2D  (None, 14, 14, 256)      0         \n",
            " )                                                               \n",
            "                                                                 \n",
            " conv2d_1 (Conv2D)           (None, 14, 14, 128)       295040    \n",
            "                                                                 \n",
            " max_pooling2d_1 (MaxPooling  (None, 7, 7, 128)        0         \n",
            " 2D)                                                             \n",
            "                                                                 \n",
            " conv2d_2 (Conv2D)           (None, 7, 7, 64)          73792     \n",
            "                                                                 \n",
            " max_pooling2d_2 (MaxPooling  (None, 3, 3, 64)         0         \n",
            " 2D)                                                             \n",
            "                                                                 \n",
            " conv2d_3 (Conv2D)           (None, 3, 3, 32)          18464     \n",
            "                                                                 \n",
            " max_pooling2d_3 (MaxPooling  (None, 1, 1, 32)         0         \n",
            " 2D)                                                             \n",
            "                                                                 \n",
            " flatten (Flatten)           (None, 32)                0         \n",
            "                                                                 \n",
            " dense (Dense)               (None, 256)               8448      \n",
            "                                                                 \n",
            " dense_1 (Dense)             (None, 128)               32896     \n",
            "                                                                 \n",
            " dense_2 (Dense)             (None, 64)                8256      \n",
            "                                                                 \n",
            " dense_3 (Dense)             (None, 32)                2080      \n",
            "                                                                 \n",
            " dense_4 (Dense)             (None, 15)                495       \n",
            "                                                                 \n",
            "=================================================================\n",
            "Total params: 442,031\n",
            "Trainable params: 442,031\n",
            "Non-trainable params: 0\n",
            "_________________________________________________________________\n"
          ]
        }
      ],
      "source": [
        "model=keras.Sequential()\n",
        "model.add(keras.layers.Conv2D(256,(3,3),activation=\"relu\",input_shape=(28,28,1),padding=\"same\"))\n",
        "model.add(keras.layers.MaxPooling2D(pool_size=(2,2)))\n",
        "\n",
        "model.add(keras.layers.Conv2D(128,(3,3),activation=\"relu\",padding=\"same\"))\n",
        "model.add(keras.layers.MaxPooling2D(pool_size=(2,2)))\n",
        "\n",
        "\n",
        "model.add(keras.layers.Conv2D(64,(3,3),activation=\"relu\",padding=\"same\"))\n",
        "model.add(keras.layers.MaxPooling2D(pool_size=(2,2)))\n",
        "\n",
        "\n",
        "model.add(keras.layers.Conv2D(32,(3,3),activation=\"relu\",padding=\"same\"))\n",
        "model.add(keras.layers.MaxPooling2D(pool_size=(2,2)))\n",
        "\n",
        "\n",
        "# model.add(keras.layers.Dropout(0.2))\n",
        "\n",
        "model.add(keras.layers.Flatten())\n",
        "\n",
        "model.add(keras.layers.Dense(256,activation=\"relu\"))\n",
        "model.add(keras.layers.Dense(128,activation=\"relu\"))\n",
        "model.add(keras.layers.Dense(64,activation=\"relu\"))\n",
        "model.add(keras.layers.Dense(32,activation=\"relu\"))\n",
        "model.add(keras.layers.Dense(15,activation=\"softmax\"))\n",
        "\n",
        "model.summary()"
      ]
    },
    {
      "cell_type": "code",
      "execution_count": 15,
      "id": "65df0366",
      "metadata": {
        "id": "65df0366"
      },
      "outputs": [],
      "source": [
        "model.compile(optimizer=\"adam\",loss=\"sparse_categorical_crossentropy\",metrics=[\"accuracy\"])"
      ]
    },
    {
      "cell_type": "code",
      "execution_count": 16,
      "id": "fa2c7a10",
      "metadata": {
        "id": "fa2c7a10",
        "outputId": "1b8911cc-481b-49c3-9a54-e6ee4fe00a31",
        "colab": {
          "base_uri": "https://localhost:8080/"
        }
      },
      "outputs": [
        {
          "output_type": "stream",
          "name": "stdout",
          "text": [
            "Epoch 1/10\n",
            "4073/4073 [==============================] - 135s 30ms/step - loss: 0.5190 - accuracy: 0.8399 - val_loss: 0.1735 - val_accuracy: 0.9512\n",
            "Epoch 2/10\n",
            "4073/4073 [==============================] - 120s 30ms/step - loss: 0.2423 - accuracy: 0.9283 - val_loss: 0.1395 - val_accuracy: 0.9592\n",
            "Epoch 3/10\n",
            "4073/4073 [==============================] - 118s 29ms/step - loss: 0.2039 - accuracy: 0.9393 - val_loss: 0.1255 - val_accuracy: 0.9635\n",
            "Epoch 4/10\n",
            "4073/4073 [==============================] - 126s 31ms/step - loss: 0.1870 - accuracy: 0.9451 - val_loss: 0.1211 - val_accuracy: 0.9662\n",
            "Epoch 5/10\n",
            "4073/4073 [==============================] - 116s 28ms/step - loss: 0.1747 - accuracy: 0.9480 - val_loss: 0.1246 - val_accuracy: 0.9652\n",
            "Epoch 6/10\n",
            "4073/4073 [==============================] - 117s 29ms/step - loss: 0.1683 - accuracy: 0.9501 - val_loss: 0.1128 - val_accuracy: 0.9675\n",
            "Epoch 7/10\n",
            "4073/4073 [==============================] - 117s 29ms/step - loss: 0.1568 - accuracy: 0.9533 - val_loss: 0.1113 - val_accuracy: 0.9677\n",
            "Epoch 8/10\n",
            "4073/4073 [==============================] - 123s 30ms/step - loss: 0.1535 - accuracy: 0.9544 - val_loss: 0.1093 - val_accuracy: 0.9695\n",
            "Epoch 9/10\n",
            "4073/4073 [==============================] - 124s 31ms/step - loss: 0.1489 - accuracy: 0.9560 - val_loss: 0.1098 - val_accuracy: 0.9668\n",
            "Epoch 10/10\n",
            "4073/4073 [==============================] - 123s 30ms/step - loss: 0.1450 - accuracy: 0.9568 - val_loss: 0.0937 - val_accuracy: 0.9736\n"
          ]
        }
      ],
      "source": [
        "history=model.fit(x_train,validation_data=x_val,epochs=10,batch_size=200)"
      ]
    },
    {
      "cell_type": "code",
      "execution_count": 17,
      "id": "5e3cee5c",
      "metadata": {
        "id": "5e3cee5c"
      },
      "outputs": [],
      "source": [
        "# Sampling Still pending(ensemble model,over sampling)\n",
        "model.save(\"FinalModel.h5\")"
      ]
    },
    {
      "cell_type": "markdown",
      "id": "8e2e87d4",
      "metadata": {
        "id": "8e2e87d4"
      },
      "source": [
        "# Model Evaluation"
      ]
    },
    {
      "cell_type": "code",
      "execution_count": 18,
      "id": "94fcefe4",
      "metadata": {
        "id": "94fcefe4",
        "colab": {
          "base_uri": "https://localhost:8080/",
          "height": 927
        },
        "outputId": "6fe77ca8-86b3-409c-e035-ef1b01f07fd0"
      },
      "outputs": [
        {
          "output_type": "display_data",
          "data": {
            "text/plain": [
              "<Figure size 640x480 with 1 Axes>"
            ],
            "image/png": "[encoded data removed]"
          },
          "metadata": {}
        },
        {
          "output_type": "display_data",
          "data": {
            "text/plain": [
              "<Figure size 640x480 with 1 Axes>"
            ],
            "image/png": "[encoded data removed]"
          },
          "metadata": {}
        }
      ],
      "source": [
        "#  summarize history for accuracy\n",
        "plt.plot(history.history['accuracy'])\n",
        "plt.plot(history.history['val_accuracy'])\n",
        "plt.title('model accuracy')\n",
        "plt.ylabel('accuracy')\n",
        "plt.xlabel('epoch')\n",
        "plt.legend(['train', 'val'], loc='upper left')\n",
        "plt.show()\n",
        "# summarize history for loss\n",
        "plt.plot(history.history['loss'])\n",
        "plt.plot(history.history['val_loss'])\n",
        "plt.title('model loss')\n",
        "plt.ylabel('loss')\n",
        "plt.xlabel('epoch')\n",
        "plt.legend(['train', 'val'], loc='upper left')\n",
        "plt.show()"
      ]
    },
    {
      "cell_type": "code",
      "execution_count": 19,
      "id": "8920fd25",
      "metadata": {
        "id": "8920fd25",
        "outputId": "9c8a552a-7213-43d3-d908-2075d6e8e709",
        "colab": {
          "base_uri": "https://localhost:8080/"
        }
      },
      "outputs": [
        {
          "output_type": "stream",
          "name": "stdout",
          "text": [
            "Found 18215 images belonging to 14 classes.\n"
          ]
        }
      ],
      "source": [
        "test_datagram=ImageDataGenerator(rescale=1./255,\n",
        "                                 horizontal_flip=False)\n",
        "\n",
        "x_test=test_datagram.flow_from_directory(\"/tmp/data_output/test\",\n",
        "                                          target_size=(28,28),\n",
        "                                          batch_size=32,\n",
        "                                           color_mode=\"grayscale\",\n",
        "                                          class_mode=\"sparse\",\n",
        "                                         shuffle = False)\n",
        "y_test=x_test.classes"
      ]
    },
    {
      "cell_type": "code",
      "execution_count": 20,
      "id": "4fd5fa26",
      "metadata": {
        "id": "4fd5fa26"
      },
      "outputs": [],
      "source": [
        "# model.evaluate(x_train)"
      ]
    },
    {
      "cell_type": "code",
      "execution_count": 21,
      "id": "fa757928",
      "metadata": {
        "id": "fa757928",
        "outputId": "299aca20-3a2f-4cab-b97f-c8fc86327db1",
        "colab": {
          "base_uri": "https://localhost:8080/"
        }
      },
      "outputs": [
        {
          "output_type": "stream",
          "name": "stdout",
          "text": [
            "570/570 [==============================] - 8s 14ms/step - loss: 0.0982 - accuracy: 0.9727\n"
          ]
        },
        {
          "output_type": "execute_result",
          "data": {
            "text/plain": [
              "[0.09816396236419678, 0.9727147817611694]"
            ]
          },
          "metadata": {},
          "execution_count": 21
        }
      ],
      "source": [
        "model.evaluate(x_test)"
      ]
    },
    {
      "cell_type": "code",
      "execution_count": 22,
      "id": "4ff688bb",
      "metadata": {
        "id": "4ff688bb"
      },
      "outputs": [],
      "source": [
        "# Single Image Predict"
      ]
    },
    {
      "cell_type": "code",
      "execution_count": 23,
      "id": "7ee57871",
      "metadata": {
        "scrolled": true,
        "id": "7ee57871",
        "outputId": "b62fca11-51df-4bb8-f318-7a3002dfa3e3",
        "colab": {
          "base_uri": "https://localhost:8080/"
        }
      },
      "outputs": [
        {
          "output_type": "stream",
          "name": "stdout",
          "text": [
            "1/1 [==============================] - 0s 224ms/step\n",
            "Predicted:9 Actual:9\n"
          ]
        }
      ],
      "source": [
        "from keras.preprocessing import image\n",
        "# E:\\tfGPU\\Mathematical Exp\\data_output\\test\\5\\5_39045.jpg\n",
        "path='/tmp/data_output/test/5/5_39045.jpg'\n",
        "testImg=keras.utils.load_img(path,target_size=(28,28),color_mode=\"grayscale\")\n",
        "testImg=keras.utils.img_to_array(testImg)\n",
        "testImg=np.expand_dims(testImg,axis=0)\n",
        "print(f\"Predicted:{np.argmax(model.predict(testImg))} Actual:{x_train.class_indices['5']}\")"
      ]
    },
    {
      "cell_type": "code",
      "execution_count": 24,
      "id": "9e286424",
      "metadata": {
        "id": "9e286424",
        "outputId": "42512f2b-501e-42d7-e8cc-d152b5e8d2d0",
        "colab": {
          "base_uri": "https://localhost:8080/",
          "height": 62
        }
      },
      "outputs": [
        {
          "output_type": "execute_result",
          "data": {
            "text/plain": [
              "<PIL.JpegImagePlugin.JpegImageFile image mode=L size=45x45 at 0x7F73D771C1C0>"
            ],
            "image/png": "[encoded data removed]"
          },
          "metadata": {},
          "execution_count": 24
        }
      ],
      "source": [
        "PIL.Image.open(path)"
      ]
    },
    {
      "cell_type": "code",
      "execution_count": 24,
      "id": "9dba369d",
      "metadata": {
        "id": "9dba369d"
      },
      "outputs": [],
      "source": []
    },
    {
      "cell_type": "code",
      "execution_count": 25,
      "id": "4f653a83",
      "metadata": {
        "id": "4f653a83"
      },
      "outputs": [],
      "source": [
        "from keras.preprocessing import image\n",
        "\n",
        "def getPredict(path,s):\n",
        "  img=keras.utils.load_img(path,target_size=(28,28),color_mode=\"grayscale\")\n",
        "  img=keras.utils.img_to_array(img)\n",
        "  img=np.expand_dims(img,axis=0)\n",
        "  print(model.predict(img))\n",
        "  print(f\"Predicted:{np.argmax(model.predict(img))} Actual:{x_train.class_indices[s]}\")"
      ]
    },
    {
      "cell_type": "code",
      "source": [
        "getPredict('/tmp/data_output/test/)/)_100093.jpg',')')"
      ],
      "metadata": {
        "colab": {
          "base_uri": "https://localhost:8080/"
        },
        "id": "tkHSQRoWaSd7",
        "outputId": "4ddb2be1-c476-4049-96b2-253dc7e5997f"
      },
      "id": "tkHSQRoWaSd7",
      "execution_count": 26,
      "outputs": [
        {
          "output_type": "stream",
          "name": "stdout",
          "text": [
            "1/1 [==============================] - 0s 22ms/step\n",
            "[[0. 1. 0. 0. 0. 0. 0. 0. 0. 0. 0. 0. 0. 0. 0.]]\n",
            "1/1 [==============================] - 0s 20ms/step\n",
            "Predicted:1 Actual:1\n"
          ]
        }
      ]
    },
    {
      "cell_type": "code",
      "source": [
        "PIL.Image.open('/tmp/data_output/test/)/)_100093.jpg')"
      ],
      "metadata": {
        "colab": {
          "base_uri": "https://localhost:8080/",
          "height": 62
        },
        "id": "uBNzyNcGihOU",
        "outputId": "026b8374-de43-41ae-f449-32ca21414bfd"
      },
      "id": "uBNzyNcGihOU",
      "execution_count": 27,
      "outputs": [
        {
          "output_type": "execute_result",
          "data": {
            "text/plain": [
              "<PIL.JpegImagePlugin.JpegImageFile image mode=L size=45x45 at 0x7F73D4DC0790>"
            ],
            "image/png": "[encoded data removed]"
          },
          "metadata": {},
          "execution_count": 27
        }
      ]
    },
    {
      "cell_type": "code",
      "source": [
        "getPredict('/tmp/data_output/test/+/+_10019.jpg','+')"
      ],
      "metadata": {
        "colab": {
          "base_uri": "https://localhost:8080/"
        },
        "id": "Gdnr62skaiek",
        "outputId": "1a9ac610-5c82-45ee-df59-96089660dfa0"
      },
      "id": "Gdnr62skaiek",
      "execution_count": 28,
      "outputs": [
        {
          "output_type": "stream",
          "name": "stdout",
          "text": [
            "1/1 [==============================] - 0s 24ms/step\n",
            "[[0. 0. 1. 0. 0. 0. 0. 0. 0. 0. 0. 0. 0. 0. 0.]]\n",
            "1/1 [==============================] - 0s 24ms/step\n",
            "Predicted:2 Actual:2\n"
          ]
        }
      ]
    },
    {
      "cell_type": "code",
      "source": [
        "PIL.Image.open('/tmp/data_output/test/+/+_10019.jpg')"
      ],
      "metadata": {
        "colab": {
          "base_uri": "https://localhost:8080/",
          "height": 62
        },
        "id": "Qujp7Hy_ixvO",
        "outputId": "f2c1ce97-28f5-4aa3-cdaa-4e95a938e084"
      },
      "id": "Qujp7Hy_ixvO",
      "execution_count": 29,
      "outputs": [
        {
          "output_type": "execute_result",
          "data": {
            "text/plain": [
              "<PIL.JpegImagePlugin.JpegImageFile image mode=L size=45x45 at 0x7F73D6BC2610>"
            ],
            "image/png": "[encoded data removed]"
          },
          "metadata": {},
          "execution_count": 29
        }
      ]
    },
    {
      "cell_type": "markdown",
      "id": "e9d1fd8b",
      "metadata": {
        "id": "e9d1fd8b"
      },
      "source": [
        "# Classification Report"
      ]
    },
    {
      "cell_type": "code",
      "execution_count": 30,
      "id": "6d25943b",
      "metadata": {
        "id": "6d25943b",
        "outputId": "9c97271c-237e-4cfe-e890-cd7348b878dc",
        "colab": {
          "base_uri": "https://localhost:8080/"
        }
      },
      "outputs": [
        {
          "output_type": "execute_result",
          "data": {
            "text/plain": [
              "{0: 1431,\n",
              " 1: 1436,\n",
              " 2: 2512,\n",
              " 3: 3401,\n",
              " 4: 693,\n",
              " 5: 2652,\n",
              " 6: 2615,\n",
              " 7: 1092,\n",
              " 8: 740,\n",
              " 9: 355,\n",
              " 10: 313,\n",
              " 11: 292,\n",
              " 12: 308,\n",
              " 13: 375,\n",
              " 14: 0,\n",
              " 15: 0,\n",
              " 16: 0,\n",
              " 17: 0,\n",
              " 18: 0,\n",
              " 19: 0,\n",
              " 20: 0,\n",
              " 21: 0}"
            ]
          },
          "metadata": {},
          "execution_count": 30
        }
      ],
      "source": [
        "temp={}\n",
        "for i in range(22):\n",
        "    temp[i]=0\n",
        "for i in x_test.classes:\n",
        "    temp[i]+=1\n",
        "temp"
      ]
    },
    {
      "cell_type": "code",
      "execution_count": 32,
      "id": "d86876b0",
      "metadata": {
        "id": "d86876b0",
        "outputId": "d7e20c51-e737-4203-faeb-ac85b92f163d",
        "colab": {
          "base_uri": "https://localhost:8080/",
          "height": 465
        }
      },
      "outputs": [
        {
          "output_type": "stream",
          "name": "stdout",
          "text": [
            "[2. 2. 2. 2. 2. 2. 2. 2. 2. 2. 2. 2. 2. 2. 2. 2. 2. 2. 2. 2. 2. 2. 2. 2.\n",
            " 2. 2. 2. 2. 2. 2. 2. 2.]\n"
          ]
        },
        {
          "output_type": "display_data",
          "data": {
            "text/plain": [
              "<Figure size 640x480 with 1 Axes>"
            ],
            "image/png": "[encoded data removed]"
          },
          "metadata": {}
        }
      ],
      "source": [
        "# for i in range(1435):\n",
        "#   x_test.next()\n",
        "img,label=x_test.next()\n",
        "plt.imshow(img[0])\n",
        "print(label)"
      ]
    },
    {
      "cell_type": "code",
      "execution_count": 33,
      "id": "984d8bc3",
      "metadata": {
        "id": "984d8bc3",
        "outputId": "e4a49827-01f1-4d6e-ff40-c73c899b5ab0",
        "colab": {
          "base_uri": "https://localhost:8080/"
        }
      },
      "outputs": [
        {
          "output_type": "execute_result",
          "data": {
            "text/plain": [
              "{'(': 0,\n",
              " ')': 1,\n",
              " '+': 2,\n",
              " '-': 3,\n",
              " '0': 4,\n",
              " '1': 5,\n",
              " '2': 6,\n",
              " '3': 7,\n",
              " '4': 8,\n",
              " '5': 9,\n",
              " '6': 10,\n",
              " '7': 11,\n",
              " '8': 12,\n",
              " '9': 13}"
            ]
          },
          "metadata": {},
          "execution_count": 33
        }
      ],
      "source": [
        "x_test.class_indices"
      ]
    },
    {
      "cell_type": "code",
      "execution_count": 34,
      "id": "99c752a2",
      "metadata": {
        "id": "99c752a2",
        "outputId": "2b1a5d8a-b2d9-434d-aeb7-d04042c3c828",
        "colab": {
          "base_uri": "https://localhost:8080/"
        }
      },
      "outputs": [
        {
          "output_type": "stream",
          "name": "stdout",
          "text": [
            "570/570 [==============================] - 9s 15ms/step\n",
            "              precision    recall  f1-score   support\n",
            "\n",
            "           0       0.97      0.93      0.95      1495\n",
            "           1       0.98      0.98      0.98      1442\n",
            "           2       0.98      0.98      0.98      2516\n",
            "           3       1.00      0.98      0.99      3448\n",
            "           4       0.99      0.98      0.99       701\n",
            "           5       0.93      0.96      0.94      2547\n",
            "           6       0.98      0.99      0.99      2589\n",
            "           7       0.98      0.99      0.98      1083\n",
            "           8       0.97      0.95      0.96       753\n",
            "           9       0.96      0.97      0.97       350\n",
            "          10       0.95      0.98      0.97       304\n",
            "          11       0.92      0.93      0.93       289\n",
            "          12       0.95      0.98      0.97       300\n",
            "          13       1.00      0.94      0.97       396\n",
            "          14       0.00      0.00      0.00         2\n",
            "\n",
            "    accuracy                           0.97     18215\n",
            "   macro avg       0.90      0.90      0.90     18215\n",
            "weighted avg       0.97      0.97      0.97     18215\n",
            "\n"
          ]
        },
        {
          "output_type": "stream",
          "name": "stderr",
          "text": [
            "/usr/local/lib/python3.9/dist-packages/sklearn/metrics/_classification.py:1344: UndefinedMetricWarning: Precision and F-score are ill-defined and being set to 0.0 in labels with no predicted samples. Use `zero_division` parameter to control this behavior.\n",
            "  _warn_prf(average, modifier, msg_start, len(result))\n",
            "/usr/local/lib/python3.9/dist-packages/sklearn/metrics/_classification.py:1344: UndefinedMetricWarning: Precision and F-score are ill-defined and being set to 0.0 in labels with no predicted samples. Use `zero_division` parameter to control this behavior.\n",
            "  _warn_prf(average, modifier, msg_start, len(result))\n",
            "/usr/local/lib/python3.9/dist-packages/sklearn/metrics/_classification.py:1344: UndefinedMetricWarning: Precision and F-score are ill-defined and being set to 0.0 in labels with no predicted samples. Use `zero_division` parameter to control this behavior.\n",
            "  _warn_prf(average, modifier, msg_start, len(result))\n"
          ]
        }
      ],
      "source": [
        "y_pred=model.predict(x_test)\n",
        "y_pred=[np.argmax(i) for i in y_pred]\n",
        "#get classification report\n",
        "print(classification_report(y_pred,y_test))"
      ]
    },
    {
      "cell_type": "code",
      "execution_count": 100,
      "id": "59ea03b2",
      "metadata": {
        "id": "59ea03b2"
      },
      "outputs": [],
      "source": [
        "import matplotlib.pyplot as plt\n",
        "import cv2\n",
        "from google.colab.patches import cv2_imshow\n",
        "# img=cv2.imread(\"/test.jpeg\",cv2.IMREAD_GRAYSCALE)\n",
        "\n",
        "def getContours(img):\n",
        "  if img is not None:\n",
        "  #     images.append(img)\n",
        "      img=~img\n",
        "      ret,thresh=cv2.threshold(img,100,255,cv2.THRESH_BINARY)\n",
        "      ctrs=cv2.findContours(thresh,cv2.RETR_TREE,cv2.CHAIN_APPROX_SIMPLE)[0]\n",
        "      cnt=sorted(ctrs, key=lambda ctr: cv2.boundingRect(ctr)[0])\n",
        "      w=int(28)\n",
        "      h=int(28)\n",
        "      train_data=[]\n",
        "  #     print(len(cnt))\n",
        "      rects=[]\n",
        "      for c in cnt :\n",
        "          x,y,w,h= cv2.boundingRect(c)\n",
        "          rect=[x,y,w,h]\n",
        "          rects.append(rect)\n",
        "      #print(rects)\n",
        "      bool_rect=[]\n",
        "      for r in rects:\n",
        "          l=[]\n",
        "          for rec in rects:\n",
        "              flag=0\n",
        "              if rec!=r:\n",
        "                  if r[0]<(rec[0]+rec[2]+10) and rec[0]<(r[0]+r[2]+10) and r[1]<(rec[1]+rec[3]+10) and rec[1]<(r[1]+r[3]+10):\n",
        "                      flag=1\n",
        "                  l.append(flag)\n",
        "              if rec==r:\n",
        "                  l.append(0)\n",
        "          bool_rect.append(l)\n",
        "      #print(bool_rect)\n",
        "      dump_rect=[]\n",
        "      for i in range(0,len(cnt)):\n",
        "          for j in range(0,len(cnt)):\n",
        "              if bool_rect[i][j]==1:\n",
        "                  area1=rects[i][2]*rects[i][3]\n",
        "                  area2=rects[j][2]*rects[j][3]\n",
        "                  if(area1==min(area1,area2)):\n",
        "                      dump_rect.append(rects[i])\n",
        "      #print(len(dump_rect)) \n",
        "      final_rect=[i for i in rects if i not in dump_rect]\n",
        "      #print(final_rect)\n",
        "      for r in final_rect:\n",
        "          x=r[0]\n",
        "          y=r[1]\n",
        "          w=r[2]\n",
        "          h=r[3]\n",
        "          im_crop =thresh[y:y+h+40,x:x+w+0]\n",
        "          \n",
        "\n",
        "          im_resize = cv2.resize(im_crop,(28,28))\n",
        "          cv2_imshow(im_resize)\n",
        "          # cv2.waitKey(0)\n",
        "          # cv2.destroyAllWindows()\n",
        "\n",
        "          im_resize=np.reshape(im_resize,(1,28,28))\n",
        "          train_data.append(im_resize)\n",
        "      return train_data\n",
        "  else:\n",
        "    print(\"Img is None\")"
      ]
    },
    {
      "cell_type": "code",
      "source": [
        "labels={0:'(',1:')',2:'+',3:'-',4:'0',5:'1',6:'2',7:'3',8:'4',9:'5',10:'6',11:'7',12:'8',13:'9',14:'*'}\n",
        "\n",
        "def solveEqu(img):\n",
        "    data=getContours(img)\n",
        "    equ=\"\"\n",
        "    ind=\"\"\n",
        "    for i in data:\n",
        "        img=np.array(i)\n",
        "        index=np.argmax(model.predict(img))\n",
        "        ind+=\" \"+str(index)\n",
        "        equ+=labels[index]\n",
        "    print(\"Equ is:\",equ)\n",
        "    print(\"Index are:\",ind)\n",
        "    # print(f\"Sol.:\",eval(equ))\n",
        "        \n"
      ],
      "metadata": {
        "id": "hla_mQ0nc0Zv"
      },
      "id": "hla_mQ0nc0Zv",
      "execution_count": 101,
      "outputs": []
    },
    {
      "cell_type": "code",
      "source": [
        "img=cv2.imread(\"/content/testAdd.png\",cv2.IMREAD_GRAYSCALE)\n",
        "solveEqu(img)\n",
        "cv2_imshow(img)"
      ],
      "metadata": {
        "colab": {
          "base_uri": "https://localhost:8080/",
          "height": 264
        },
        "id": "Lf3g9AhYedhq",
        "outputId": "f4312767-c8a0-4cd0-9f21-60435606fe3d"
      },
      "id": "Lf3g9AhYedhq",
      "execution_count": 102,
      "outputs": [
        {
          "output_type": "display_data",
          "data": {
            "text/plain": [
              "<PIL.Image.Image image mode=L size=28x28 at 0x7F73D73D7640>"
            ],
            "image/png": "[encoded data removed]"
          },
          "metadata": {}
        },
        {
          "output_type": "display_data",
          "data": {
            "text/plain": [
              "<PIL.Image.Image image mode=L size=28x28 at 0x7F73D73D7640>"
            ],
            "image/png": "[encoded data removed]"
          },
          "metadata": {}
        },
        {
          "output_type": "display_data",
          "data": {
            "text/plain": [
              "<PIL.Image.Image image mode=L size=28x28 at 0x7F73D73D7640>"
            ],
            "image/png": "[encoded data removed]"
          },
          "metadata": {}
        },
        {
          "output_type": "stream",
          "name": "stdout",
          "text": [
            "1/1 [==============================] - 0s 20ms/step\n",
            "1/1 [==============================] - 0s 20ms/step\n",
            "1/1 [==============================] - 0s 19ms/step\n",
            "Equ is: 4+4\n",
            "Index are:  8 2 8\n"
          ]
        },
        {
          "output_type": "display_data",
          "data": {
            "text/plain": [
              "<PIL.Image.Image image mode=L size=195x76 at 0x7F73D73D7AC0>"
            ],
            "image/png": "[encoded data removed]"
          },
          "metadata": {}
        }
      ]
    },
    {
      "cell_type": "code",
      "source": [
        "img=cv2.imread(\"/content/testSub.png\",cv2.IMREAD_GRAYSCALE)\n",
        "solveEqu(img)\n",
        "cv2_imshow(img)"
      ],
      "metadata": {
        "id": "bpfegII1hKnH",
        "colab": {
          "base_uri": "https://localhost:8080/",
          "height": 265
        },
        "outputId": "e0beac0b-2c52-451e-c052-6dfbf6fe8fd5"
      },
      "id": "bpfegII1hKnH",
      "execution_count": 105,
      "outputs": [
        {
          "output_type": "display_data",
          "data": {
            "text/plain": [
              "<PIL.Image.Image image mode=L size=28x28 at 0x7F73D74CCFA0>"
            ],
            "image/png": "[encoded data removed]"
          },
          "metadata": {}
        },
        {
          "output_type": "display_data",
          "data": {
            "text/plain": [
              "<PIL.Image.Image image mode=L size=28x28 at 0x7F73D71ECE20>"
            ],
            "image/png": "[encoded data removed]"
          },
          "metadata": {}
        },
        {
          "output_type": "display_data",
          "data": {
            "text/plain": [
              "<PIL.Image.Image image mode=L size=28x28 at 0x7F73D718FEE0>"
            ],
            "image/png": "[encoded data removed]"
          },
          "metadata": {}
        },
        {
          "output_type": "stream",
          "name": "stdout",
          "text": [
            "1/1 [==============================] - 0s 30ms/step\n",
            "1/1 [==============================] - 0s 33ms/step\n",
            "1/1 [==============================] - 0s 28ms/step\n",
            "Equ is: 4-2\n",
            "Index are:  8 3 6\n"
          ]
        },
        {
          "output_type": "display_data",
          "data": {
            "text/plain": [
              "<PIL.Image.Image image mode=L size=183x77 at 0x7F73D74CC9A0>"
            ],
            "image/png": "[encoded data removed]"
          },
          "metadata": {}
        }
      ]
    },
    {
      "cell_type": "code",
      "source": [
        "# img=cv2.imread(\"/content/testMult.png\",cv2.IMREAD_GRAYSCALE)\n",
        "# solveEqu(img)\n",
        "# cv2_imshow(img)"
      ],
      "metadata": {
        "id": "l3YQh9aOwutv"
      },
      "id": "l3YQh9aOwutv",
      "execution_count": 109,
      "outputs": []
    },
    {
      "cell_type": "code",
      "source": [],
      "metadata": {
        "id": "OTWb19ajX3eE"
      },
      "id": "OTWb19ajX3eE",
      "execution_count": null,
      "outputs": []
    }
  ],
  "metadata": {
    "kernelspec": {
      "display_name": "Python 3",
      "name": "python3"
    },
    "language_info": {
      "name": "python"
    },
    "colab": {
      "provenance": []
    },
    "accelerator": "GPU",
    "gpuClass": "standard"
  },
  "nbformat": 4,
  "nbformat_minor": 5
}