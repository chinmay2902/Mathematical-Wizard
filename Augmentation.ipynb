{
 "cells": [
  {
   "cell_type": "code",
   "execution_count": 73,
   "id": "23cd99c1",
   "metadata": {},
   "outputs": [],
   "source": [
    "import cv2\n",
    "import PIL\n",
    "import tensorflow as tf\n",
    "from tensorflow import keras\n",
    "from keras.preprocessing.image import ImageDataGenerator\n",
    "from sklearn.metrics import classification_report,confusion_matrix\n",
    "import numpy as np\n",
    "import matplotlib.pyplot as plt"
   ]
  },
  {
   "cell_type": "code",
   "execution_count": 74,
   "id": "325981f3",
   "metadata": {},
   "outputs": [
    {
     "data": {
      "text/plain": [
       "14"
      ]
     },
     "execution_count": 74,
     "metadata": {},
     "output_type": "execute_result"
    }
   ],
   "source": [
    "import pathlib\n",
    "path=\"data_output/train\"\n",
    "len(list(pathlib.Path(path).glob(\"*/\")))"
   ]
  },
  {
   "cell_type": "code",
   "execution_count": 75,
   "id": "f1e8df89",
   "metadata": {},
   "outputs": [
    {
     "data": {
      "text/plain": [
       "'data_output\\\\train\\\\+'"
      ]
     },
     "execution_count": 75,
     "metadata": {},
     "output_type": "execute_result"
    }
   ],
   "source": [
    "str(list(pathlib.Path(path).glob(\"*/\"))[2])"
   ]
  },
  {
   "cell_type": "code",
   "execution_count": 76,
   "id": "2cf4693f",
   "metadata": {},
   "outputs": [
    {
     "data": {
      "text/plain": [
       "['(', ')', '+', '-', '0', '1', '2', '3', '4', '5', '6', '7', '8', '9']"
      ]
     },
     "execution_count": 76,
     "metadata": {},
     "output_type": "execute_result"
    }
   ],
   "source": [
    "ctg=[str(i).split(\"\\\\\")[-1] for i in list(pathlib.Path(path).glob(\"*/\"))]\n",
    "ctg"
   ]
  },
  {
   "cell_type": "code",
   "execution_count": 77,
   "id": "a6bf0cee",
   "metadata": {},
   "outputs": [
    {
     "name": "stdout",
     "output_type": "stream",
     "text": [
      "(:10005\n",
      "):10048\n",
      "+:17578\n",
      "-:23797\n",
      "0:4839\n",
      "1:18564\n",
      "2:18298\n",
      "3:7636\n",
      "4:5177\n",
      "5:2481\n",
      "6:2182\n",
      "7:2036\n",
      "8:2147\n",
      "9:2615\n",
      "Avg is 9100.214285714286\n"
     ]
    }
   ],
   "source": [
    "sum=0\n",
    "for i in ctg:\n",
    "    sum+=len(list(pathlib.Path(path+'/'+i).glob('*')))\n",
    "    print(f\"{i}:{len(list(pathlib.Path(path+'/'+i).glob('*')))}\")\n",
    "print(f\"Avg is {sum/14}\")"
   ]
  },
  {
   "cell_type": "code",
   "execution_count": 78,
   "id": "bf8830a3",
   "metadata": {},
   "outputs": [
    {
     "name": "stdout",
     "output_type": "stream",
     "text": [
      "Requied 0:5161\n",
      "Requied 3:2364\n",
      "Requied 4:4823\n",
      "Requied 5:7519\n",
      "Requied 6:7818\n",
      "Requied 7:7964\n",
      "Requied 8:7853\n",
      "Requied 9:7385\n"
     ]
    }
   ],
   "source": [
    "for i in ctg:\n",
    "    n=len(list(pathlib.Path(path+'/'+i).glob('*')))\n",
    "    if n<10000:\n",
    "        print(f\"Requied {i}:{10000-n}\")"
   ]
  },
  {
   "cell_type": "code",
   "execution_count": 83,
   "id": "d6a49d41",
   "metadata": {},
   "outputs": [],
   "source": [
    "# !pip install scikit-image"
   ]
  },
  {
   "cell_type": "code",
   "execution_count": 133,
   "id": "ff898e94",
   "metadata": {},
   "outputs": [],
   "source": [
    "import numpy as np\n",
    "from skimage import io\n",
    "import os\n",
    "from PIL import Image\n",
    "\n",
    "def augImg(dirPath,b):\n",
    "#      datagen = ImageDataGenerator(\n",
    "#         rotation_range=45,     #Random rotation between 0 and 45\n",
    "#         width_shift_range=0.2,   #% shift\n",
    "#         height_shift_range=0.2,\n",
    "#         shear_range=0.2,\n",
    "#         zoom_range=0.2,\n",
    "#         horizontal_flip=False,\n",
    "#         fill_mode='constant', cval=125)\n",
    "\n",
    "    i = 0\n",
    "    for batch in datagen.flow_from_directory(directory=dirPath, \n",
    "                                             batch_size=32,  \n",
    "                                             target_size=(45, 45),\n",
    "                                             color_mode=\"grayscale\",\n",
    "                                             class_mode=\"sparse\",\n",
    "                                             save_to_dir=dirPath, \n",
    "                                             save_prefix='aug', \n",
    "                                             save_format='jpg'):\n",
    "        i += 1\n",
    "        if i > b:\n",
    "            break "
   ]
  },
  {
   "cell_type": "code",
   "execution_count": null,
   "id": "dc21eb74",
   "metadata": {},
   "outputs": [],
   "source": []
  },
  {
   "cell_type": "code",
   "execution_count": 137,
   "id": "64323a29",
   "metadata": {},
   "outputs": [
    {
     "name": "stdout",
     "output_type": "stream",
     "text": [
      "Found 2182 images belonging to 1 classes.\n"
     ]
    }
   ],
   "source": [
    "# augImg(\"aug1/\",400)"
   ]
  },
  {
   "cell_type": "code",
   "execution_count": 139,
   "id": "a5e41a64",
   "metadata": {},
   "outputs": [
    {
     "name": "stdout",
     "output_type": "stream",
     "text": [
      "Found 4839 images belonging to 1 classes.\n"
     ]
    }
   ],
   "source": [
    "# augImg(\"5/\",400)\n",
    "# augImg(\"4/\",400)\n",
    "# augImg(\"3/\",400)\n",
    "# augImg(\"0/\",400)"
   ]
  },
  {
   "cell_type": "code",
   "execution_count": null,
   "id": "ac9e2f5b",
   "metadata": {},
   "outputs": [],
   "source": [
    "# 3362\n",
    "# 33620\n",
    "li=os.listdir(\"aug\")\n",
    "for i in li:\n",
    "    if i.split('.')[0][:2]=='aug':\n",
    "        print(\"found\")\n",
    "#     else:\n",
    "#         print(\"Not Found\")"
   ]
  },
  {
   "cell_type": "code",
   "execution_count": 142,
   "id": "2aeca989",
   "metadata": {},
   "outputs": [
    {
     "name": "stdout",
     "output_type": "stream",
     "text": [
      "(:10005\n",
      "):10048\n",
      "+:17578\n",
      "-:14382\n",
      "0:10197\n",
      "1:18564\n",
      "2:18298\n",
      "3:9652\n",
      "4:9408\n",
      "5:9840\n",
      "6:10737\n",
      "7:9446\n",
      "8:10300\n",
      "9:12121\n",
      "Avg is 12184.0\n"
     ]
    }
   ],
   "source": [
    "sum=0\n",
    "for i in ctg:\n",
    "    sum+=len(list(pathlib.Path(path+'/'+i).glob('*')))\n",
    "    print(f\"{i}:{len(list(pathlib.Path(path+'/'+i).glob('*')))}\")\n",
    "print(f\"Avg is {sum/14}\")"
   ]
  },
  {
   "cell_type": "code",
   "execution_count": null,
   "id": "478d340a",
   "metadata": {},
   "outputs": [],
   "source": []
  }
 ],
 "metadata": {
  "kernelspec": {
   "display_name": "Python (tfGPU)",
   "language": "python",
   "name": "tfgpu"
  },
  "language_info": {
   "codemirror_mode": {
    "name": "ipython",
    "version": 3
   },
   "file_extension": ".py",
   "mimetype": "text/x-python",
   "name": "python",
   "nbconvert_exporter": "python",
   "pygments_lexer": "ipython3",
   "version": "3.9.16"
  }
 },
 "nbformat": 4,
 "nbformat_minor": 5
}
